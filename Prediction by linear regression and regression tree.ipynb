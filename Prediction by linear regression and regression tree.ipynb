{
 "cells": [
  {
   "cell_type": "markdown",
   "id": "c6a16406",
   "metadata": {},
   "source": [
    "# Предсказание дебита жидкости нефтяных скважин методами линейной регрессии и регрессионных деревьев"
   ]
  },
  {
   "cell_type": "markdown",
   "id": "469ed654",
   "metadata": {},
   "source": [
    "В данной работе будет произведено предсказание на месяц дебита жидкости для каждой из скважин датасета."
   ]
  },
  {
   "cell_type": "markdown",
   "id": "20a31af6",
   "metadata": {},
   "source": [
    "# Описание данных\n",
    "Датасет содержит данные о характеристиках нефтяных скважин. Набор данных включает следующие поля:\n",
    "- `Скважина` — номер нефтяной скважины,\n",
    "- `Дата` — дата снятия показаний,\n",
    "- `Забойное давление` — рабочее давление скважины,\n",
    "- `Дебит жидкости` — характеристика жидкости,\n",
    "- `Дебит нефти` — характеристика нефти,\n",
    "- `Обводненность`."
   ]
  },
  {
   "cell_type": "code",
   "execution_count": 1,
   "id": "8eebea91",
   "metadata": {},
   "outputs": [],
   "source": [
    "import pandas as pd\n",
    "import numpy as np\n",
    "from sklearn import tree\n",
    "from sklearn.linear_model import LinearRegression\n",
    "from sklearn.model_selection import train_test_split\n",
    "from sklearn.model_selection import GridSearchCV\n",
    "import seaborn as sns\n",
    "import matplotlib.pyplot as plt\n",
    "%matplotlib inline"
   ]
  },
  {
   "cell_type": "code",
   "execution_count": 2,
   "id": "bae497ee",
   "metadata": {},
   "outputs": [],
   "source": [
    "bores_df = pd.read_excel('bores_df.xlsx')"
   ]
  },
  {
   "cell_type": "code",
   "execution_count": 3,
   "id": "b21528bb",
   "metadata": {},
   "outputs": [
    {
     "data": {
      "text/html": [
       "<div>\n",
       "<style scoped>\n",
       "    .dataframe tbody tr th:only-of-type {\n",
       "        vertical-align: middle;\n",
       "    }\n",
       "\n",
       "    .dataframe tbody tr th {\n",
       "        vertical-align: top;\n",
       "    }\n",
       "\n",
       "    .dataframe thead th {\n",
       "        text-align: right;\n",
       "    }\n",
       "</style>\n",
       "<table border=\"1\" class=\"dataframe\">\n",
       "  <thead>\n",
       "    <tr style=\"text-align: right;\">\n",
       "      <th></th>\n",
       "      <th>Скважина</th>\n",
       "      <th>Дата</th>\n",
       "      <th>Забойное давление</th>\n",
       "      <th>Дебит жидкости</th>\n",
       "      <th>Дебит нефти</th>\n",
       "      <th>Обводненность</th>\n",
       "    </tr>\n",
       "  </thead>\n",
       "  <tbody>\n",
       "    <tr>\n",
       "      <th>0</th>\n",
       "      <td>1</td>\n",
       "      <td>1999-01-01</td>\n",
       "      <td>37.994385</td>\n",
       "      <td>8.0</td>\n",
       "      <td>7.2</td>\n",
       "      <td>0.1</td>\n",
       "    </tr>\n",
       "    <tr>\n",
       "      <th>1</th>\n",
       "      <td>1</td>\n",
       "      <td>1999-01-02</td>\n",
       "      <td>37.994385</td>\n",
       "      <td>8.0</td>\n",
       "      <td>7.2</td>\n",
       "      <td>0.1</td>\n",
       "    </tr>\n",
       "    <tr>\n",
       "      <th>2</th>\n",
       "      <td>1</td>\n",
       "      <td>1999-01-03</td>\n",
       "      <td>37.994385</td>\n",
       "      <td>8.0</td>\n",
       "      <td>7.2</td>\n",
       "      <td>0.1</td>\n",
       "    </tr>\n",
       "    <tr>\n",
       "      <th>3</th>\n",
       "      <td>1</td>\n",
       "      <td>1999-01-04</td>\n",
       "      <td>37.784920</td>\n",
       "      <td>7.0</td>\n",
       "      <td>6.3</td>\n",
       "      <td>0.1</td>\n",
       "    </tr>\n",
       "    <tr>\n",
       "      <th>4</th>\n",
       "      <td>1</td>\n",
       "      <td>1999-01-05</td>\n",
       "      <td>37.784920</td>\n",
       "      <td>7.0</td>\n",
       "      <td>6.3</td>\n",
       "      <td>0.1</td>\n",
       "    </tr>\n",
       "  </tbody>\n",
       "</table>\n",
       "</div>"
      ],
      "text/plain": [
       "   Скважина       Дата  Забойное давление  Дебит жидкости  Дебит нефти  \\\n",
       "0         1 1999-01-01          37.994385             8.0          7.2   \n",
       "1         1 1999-01-02          37.994385             8.0          7.2   \n",
       "2         1 1999-01-03          37.994385             8.0          7.2   \n",
       "3         1 1999-01-04          37.784920             7.0          6.3   \n",
       "4         1 1999-01-05          37.784920             7.0          6.3   \n",
       "\n",
       "   Обводненность  \n",
       "0            0.1  \n",
       "1            0.1  \n",
       "2            0.1  \n",
       "3            0.1  \n",
       "4            0.1  "
      ]
     },
     "execution_count": 3,
     "metadata": {},
     "output_type": "execute_result"
    }
   ],
   "source": [
    "bores_df.head()"
   ]
  },
  {
   "cell_type": "code",
   "execution_count": 4,
   "id": "c542f9fa",
   "metadata": {},
   "outputs": [
    {
     "data": {
      "text/plain": [
       "Скважина                      int64\n",
       "Дата                 datetime64[ns]\n",
       "Забойное давление           float64\n",
       "Дебит жидкости              float64\n",
       "Дебит нефти                 float64\n",
       "Обводненность               float64\n",
       "dtype: object"
      ]
     },
     "execution_count": 4,
     "metadata": {},
     "output_type": "execute_result"
    }
   ],
   "source": [
    "bores_df.dtypes"
   ]
  },
  {
   "cell_type": "markdown",
   "id": "5772b07f",
   "metadata": {},
   "source": [
    "Приведение даты к типу datetime"
   ]
  },
  {
   "cell_type": "code",
   "execution_count": 5,
   "id": "f6e75585",
   "metadata": {},
   "outputs": [],
   "source": [
    "bores_df['Дата'] = pd.to_datetime(bores_df['Дата'], format='%Y-%m-%d', errors='coerce')"
   ]
  },
  {
   "cell_type": "markdown",
   "id": "25960590",
   "metadata": {},
   "source": [
    "Функция извлечения исследуемой скважины:"
   ]
  },
  {
   "cell_type": "code",
   "execution_count": 6,
   "id": "f166e9c1",
   "metadata": {},
   "outputs": [],
   "source": [
    "def num_bore(df, num):\n",
    "    return df.loc[df['Скважина'] == num]"
   ]
  },
  {
   "cell_type": "code",
   "execution_count": 7,
   "id": "3c4721c7",
   "metadata": {},
   "outputs": [
    {
     "name": "stdout",
     "output_type": "stream",
     "text": [
      "Введите номер скважины из доступных: [ 1  2  3  4  5  6  7  8  9 10 11 12 13 14 15]\n",
      "1\n"
     ]
    }
   ],
   "source": [
    "print(f'Введите номер скважины из доступных: {bores_df[\"Скважина\"].unique()}')\n",
    "bore = num_bore(bores_df, int(input()))\n",
    "date = bore['Дата'][-30:].reset_index().drop('index', axis=1) #месяц, для которого будет производиться предсказание\n",
    "bore = bore.set_index(bore['Дата'])\n",
    "bore = bore.drop(['Скважина','Дата'], axis=1)"
   ]
  },
  {
   "cell_type": "code",
   "execution_count": 8,
   "id": "4a1f4baa",
   "metadata": {},
   "outputs": [
    {
     "data": {
      "text/plain": [
       "<AxesSubplot:>"
      ]
     },
     "execution_count": 8,
     "metadata": {},
     "output_type": "execute_result"
    },
    {
     "data": {
      "image/png": "[encoded data removed]",
      "text/plain": [
       "<Figure size 432x288 with 2 Axes>"
      ]
     },
     "metadata": {
      "needs_background": "light"
     },
     "output_type": "display_data"
    }
   ],
   "source": [
    "sns.heatmap(bore.corr(), annot=True)\n",
    "#Дебит нефти = дебит жидкости - дебит жидкости*обводнённость"
   ]
  },
  {
   "cell_type": "markdown",
   "id": "c9731fef",
   "metadata": {},
   "source": [
    "Из тепловой карты выше, можно увижеть сильную положительную корреляцию дебита жидкости и дебита нефти,\n",
    "а также значимые отрицательльные корреляции дебита жидкости с забойным давлением и забойного давления с дебитом нефти"
   ]
  },
  {
   "cell_type": "markdown",
   "id": "603dffba",
   "metadata": {},
   "source": [
    "Посмотрим распределение дебита жидкости по времени"
   ]
  },
  {
   "cell_type": "code",
   "execution_count": 9,
   "id": "c69e9286",
   "metadata": {},
   "outputs": [
    {
     "data": {
      "text/plain": [
       "<AxesSubplot:xlabel='Дата'>"
      ]
     },
     "execution_count": 9,
     "metadata": {},
     "output_type": "execute_result"
    },
    {
     "data": {
      "image/png": "[encoded data removed]",
      "text/plain": [
       "<Figure size 432x288 with 1 Axes>"
      ]
     },
     "metadata": {
      "needs_background": "light"
     },
     "output_type": "display_data"
    }
   ],
   "source": [
    "bore['Дебит жидкости'].plot()"
   ]
  },
  {
   "cell_type": "markdown",
   "id": "9de0c9ed",
   "metadata": {},
   "source": [
    "Из представленного выше распределения видны пропущенные значения, посчитаем их количество"
   ]
  },
  {
   "cell_type": "code",
   "execution_count": 10,
   "id": "ad2dd426",
   "metadata": {},
   "outputs": [
    {
     "data": {
      "text/plain": [
       "Забойное давление    121\n",
       "Дебит жидкости       121\n",
       "Дебит нефти          121\n",
       "Обводненность        121\n",
       "dtype: int64"
      ]
     },
     "execution_count": 10,
     "metadata": {},
     "output_type": "execute_result"
    }
   ],
   "source": [
    "bore.isnull().sum()"
   ]
  },
  {
   "cell_type": "markdown",
   "id": "441dcaed",
   "metadata": {},
   "source": [
    "Эти значения обуславливаются выводом скважины из строя, поэтому заменим их нулями"
   ]
  },
  {
   "cell_type": "code",
   "execution_count": 11,
   "id": "c2af4ee4",
   "metadata": {},
   "outputs": [],
   "source": [
    "bore = bore.fillna(0)"
   ]
  },
  {
   "cell_type": "markdown",
   "id": "b48e43ad",
   "metadata": {},
   "source": [
    "Подготовим обучающие и тестовые выборки для дальнейшего обучения модели:"
   ]
  },
  {
   "cell_type": "code",
   "execution_count": 12,
   "id": "7cec5973",
   "metadata": {},
   "outputs": [],
   "source": [
    "X = bore[['Забойное давление','Дебит нефти']]\n",
    "y = bore['Дебит жидкости']"
   ]
  },
  {
   "cell_type": "code",
   "execution_count": 13,
   "id": "9bb5e381",
   "metadata": {},
   "outputs": [],
   "source": [
    "X_train, X_test, y_train, y_test = train_test_split(X[:-30], #последние 30 значений оставляем на задачу предсказания\n",
    "                                                    y[:-30], #последние 30 значения оставляем на проверку предсказания\n",
    "                                                    test_size=0.25,\n",
    "                                                    random_state=42)"
   ]
  },
  {
   "cell_type": "markdown",
   "id": "929803da",
   "metadata": {},
   "source": [
    "Создадим две модели обучения: методом линейной регрессии и методом регрессионного дерева"
   ]
  },
  {
   "cell_type": "code",
   "execution_count": 14,
   "id": "dd6a909d",
   "metadata": {},
   "outputs": [],
   "source": [
    "lr = LinearRegression()\n",
    "dtr = tree.DecisionTreeRegressor()"
   ]
  },
  {
   "cell_type": "markdown",
   "id": "b0e80e02",
   "metadata": {},
   "source": [
    "Обучим модель линейной регресии и посмотрим на коэффициент детерминации"
   ]
  },
  {
   "cell_type": "code",
   "execution_count": 15,
   "id": "cf450d2e",
   "metadata": {},
   "outputs": [
    {
     "data": {
      "text/plain": [
       "0.9711931081969657"
      ]
     },
     "execution_count": 15,
     "metadata": {},
     "output_type": "execute_result"
    }
   ],
   "source": [
    "lr.fit(X_train, y_train)\n",
    "lr.score(X_test, y_test)"
   ]
  },
  {
   "cell_type": "markdown",
   "id": "a444cf6b",
   "metadata": {},
   "source": [
    "Обучим модель регрессионного дерева и посмотрим на коэффициент детерминации"
   ]
  },
  {
   "cell_type": "code",
   "execution_count": 16,
   "id": "55061811",
   "metadata": {},
   "outputs": [],
   "source": [
    "parameters = {'criterion': ['friedman_mse', 'poisson'], #параметры были выбраны исходя из возможного переобучения дерева\n",
    "             'max_depth': range(1,20),\n",
    "             'min_samples_split': range(10,100,10),\n",
    "             'min_samples_leaf': range(10,100,10)}"
   ]
  },
  {
   "cell_type": "code",
   "execution_count": 17,
   "id": "7821d880",
   "metadata": {},
   "outputs": [],
   "source": [
    "grid_search_cv_reg = GridSearchCV(dtr, parameters, cv=5)"
   ]
  },
  {
   "cell_type": "code",
   "execution_count": 18,
   "id": "9d05d7cd",
   "metadata": {},
   "outputs": [
    {
     "data": {
      "text/plain": [
       "GridSearchCV(cv=5, estimator=DecisionTreeRegressor(),\n",
       "             param_grid={'criterion': ['friedman_mse', 'poisson'],\n",
       "                         'max_depth': range(1, 20),\n",
       "                         'min_samples_leaf': range(10, 100, 10),\n",
       "                         'min_samples_split': range(10, 100, 10)})"
      ]
     },
     "execution_count": 18,
     "metadata": {},
     "output_type": "execute_result"
    }
   ],
   "source": [
    "grid_search_cv_reg.fit(X_train, y_train)"
   ]
  },
  {
   "cell_type": "code",
   "execution_count": 19,
   "id": "30abfb7f",
   "metadata": {},
   "outputs": [
    {
     "data": {
      "text/plain": [
       "{'criterion': 'friedman_mse',\n",
       " 'max_depth': 10,\n",
       " 'min_samples_leaf': 10,\n",
       " 'min_samples_split': 50}"
      ]
     },
     "execution_count": 19,
     "metadata": {},
     "output_type": "execute_result"
    }
   ],
   "source": [
    "grid_search_cv_reg.best_params_ #посмотрим на лучшие параметры дерева"
   ]
  },
  {
   "cell_type": "code",
   "execution_count": 20,
   "id": "d815bacc",
   "metadata": {},
   "outputs": [],
   "source": [
    "tree_reg = grid_search_cv_reg.best_estimator_ #передадим лучшие параметры нашей новой модели"
   ]
  },
  {
   "cell_type": "code",
   "execution_count": 21,
   "id": "564a5134",
   "metadata": {},
   "outputs": [
    {
     "data": {
      "text/plain": [
       "0.9685635715011509"
      ]
     },
     "execution_count": 21,
     "metadata": {},
     "output_type": "execute_result"
    }
   ],
   "source": [
    "tree_reg.score(X_test, y_test)"
   ]
  },
  {
   "cell_type": "markdown",
   "id": "ba8daf2c",
   "metadata": {},
   "source": [
    "Сделаем предсказание на 30 дней и построим графики для ознакомления с результатом обучения"
   ]
  },
  {
   "cell_type": "code",
   "execution_count": 22,
   "id": "15361947",
   "metadata": {},
   "outputs": [],
   "source": [
    "y_pred_lr = pd.DataFrame({'Дебит жидкости':lr.predict(X[-30:])}) #предсказание линейной регрессией\n",
    "y_pred_dtr = pd.DataFrame({'Дебит жидкости':tree_reg.predict(X[-30:])}) #предсказание регрессионным деревом"
   ]
  },
  {
   "cell_type": "code",
   "execution_count": 23,
   "id": "f3eb7dee",
   "metadata": {},
   "outputs": [],
   "source": [
    "pred_lr = date.join(y_pred_lr)\n",
    "pred_lr = pred_lr.set_index(pred_lr['Дата']).drop('Дата', axis=1)\n",
    "pred_dtr = date.join(y_pred_dtr)\n",
    "pred_dtr = pred_dtr.set_index(pred_dtr['Дата']).drop('Дата', axis=1)"
   ]
  },
  {
   "cell_type": "code",
   "execution_count": 24,
   "id": "b417d9e6",
   "metadata": {},
   "outputs": [],
   "source": [
    "def pred(series, series_lr, series_dtr, n, plot_bounds=False):\n",
    "    roll_mean = series.rolling(n, min_periods=1).mean()\n",
    "    fig, ax = plt.subplots(figsize=(15, 5))\n",
    "    plt.title('График распределения дебита жидкости')\n",
    "    plt.plot(roll_mean, 'r', label=f'Сглаженный дебит жидкости за {n} дней')\n",
    "    plt.plot(series, 'g--', label='Дебит жидкости')\n",
    "    plt.plot(series_lr, 'b--', label='Предсказанный дебит жидкости линейной регрессией')\n",
    "    plt.plot(series_dtr, 'm--', label='Предсказанный дебит жидкости регрессионным деревом')\n",
    "    plt.legend(loc='upper left')\n",
    "    plt.grid(True)\n",
    "    plt.xticks(rotation=45)\n",
    "    pass"
   ]
  },
  {
   "cell_type": "code",
   "execution_count": 25,
   "id": "6925c7f1",
   "metadata": {},
   "outputs": [
    {
     "data": {
      "image/png": "[encoded data removed]",
      "text/plain": [
       "<Figure size 1080x360 with 1 Axes>"
      ]
     },
     "metadata": {
      "needs_background": "light"
     },
     "output_type": "display_data"
    }
   ],
   "source": [
    "pred(bore['Дебит жидкости'], pred_lr, pred_dtr, 7)"
   ]
  }
 ],
 "metadata": {
  "kernelspec": {
   "display_name": "Python 3 (ipykernel)",
   "language": "python",
   "name": "python3"
  },
  "language_info": {
   "codemirror_mode": {
    "name": "ipython",
    "version": 3
   },
   "file_extension": ".py",
   "mimetype": "text/x-python",
   "name": "python",
   "nbconvert_exporter": "python",
   "pygments_lexer": "ipython3",
   "version": "3.9.7"
  }
 },
 "nbformat": 4,
 "nbformat_minor": 5
}
